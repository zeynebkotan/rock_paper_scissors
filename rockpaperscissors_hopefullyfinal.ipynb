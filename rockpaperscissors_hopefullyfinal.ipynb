{
  "nbformat": 4,
  "nbformat_minor": 0,
  "metadata": {
    "colab": {
      "provenance": [],
      "toc_visible": true
    },
    "kernelspec": {
      "name": "python3",
      "display_name": "Python 3"
    },
    "language_info": {
      "name": "python"
    }
  },
  "cells": [
    {
      "cell_type": "markdown",
      "source": [
        "# EXPLANATION OF CODE: LINE BY LINE"
      ],
      "metadata": {
        "id": "xR4nhZ0YiZLO"
      }
    },
    {
      "cell_type": "markdown",
      "source": [
        "We need to use the \"random\" module to make the computer random choices. So, here we are just importing it."
      ],
      "metadata": {
        "id": "ivcPW2kEiwJj"
      }
    },
    {
      "cell_type": "code",
      "source": [
        "import random"
      ],
      "metadata": {
        "id": "NjV-3Oinilki"
      },
      "execution_count": null,
      "outputs": []
    },
    {
      "cell_type": "markdown",
      "source": [
        "We should define the function which makes the evaluation between rock, papaer, and scissors."
      ],
      "metadata": {
        "id": "aDOgSz8MjZlW"
      }
    },
    {
      "cell_type": "code",
      "source": [
        "def evaluate_winner(choice_of_player, choice_of_computer):\n",
        "    global player_round_score, computer_round_score, winner\n",
        "\n",
        "    if (choice_of_player in [\"rock\", \"stein\", \"taş\"] and choice_of_computer in [\"paper\", \"papier\", \"kağıt\"]) or \\\n",
        "       (choice_of_player in [\"paper\", \"papier\", \"kağıt\"] and choice_of_computer in [\"scissors\", \"schere\",\n",
        "        \"makas\"]) or \\\n",
        "       (choice_of_player in [\"scissors\", \"schere\", \"makas\"] and choice_of_computer in [\"rock\", \"stein\", \"taş\"]):\n",
        "        winner = computers_name\n",
        "        computer_round_score += 1\n",
        "    elif (choice_of_computer in [\"rock\", \"stein\", \"taş\"] and choice_of_player in [\"paper\", \"papier\", \"kağıt\"]) or \\\n",
        "         (choice_of_computer in [\"paper\", \"papier\", \"kağıt\"] and choice_of_player in [\"scissors\", \"schere\",\n",
        "          \"makas\"]) or \\\n",
        "         (choice_of_computer in [\"scissors\", \"schere\", \"makas\"] and choice_of_player in [\"rock\", \"stein\", \"taş\"]):\n",
        "        winner = players_name\n",
        "        player_round_score += 1\n",
        "    else:\n",
        "        winner = None"
      ],
      "metadata": {
        "id": "q0Lr0PVujowK"
      },
      "execution_count": null,
      "outputs": []
    },
    {
      "cell_type": "markdown",
      "source": [
        "Then we are defining a second function. This one will be used to create a score board after end of each game."
      ],
      "metadata": {
        "id": "_VMeO22jjtj3"
      }
    },
    {
      "cell_type": "code",
      "source": [
        "def display_scoreboard():\n",
        "    cell_width = max(len(players_name), len(computers_name), len(str(player_game_score)),\n",
        "                     len(str(computer_game_score))) + 2  # We add 2 for side spaces.\n",
        "    line = \"+\" + \"-\" * cell_width + \"+\" + \"-\" * cell_width + \"+\"  # This is the variable that we will use to draw the horizontal line.\n",
        "    print(line)\n",
        "    print(f\"| {players_name.center(cell_width - 2)} | {computers_name.center(cell_width - 2)} |\")  # Here we are inserting the names of player and computer.\n",
        "    print(line)\n",
        "    print(f\"| {str(player_game_score).center(cell_width - 2)} | {str(computer_game_score).center(cell_width - 2)} |\")  # And here we are inserting scores of the player and computer. NOT round scores but game scores.\n",
        "    print(line)"
      ],
      "metadata": {
        "id": "eCnz-dwyjuMC"
      },
      "execution_count": null,
      "outputs": []
    },
    {
      "cell_type": "markdown",
      "source": [
        "Next step is creating a list of langugaes that we offer in this game."
      ],
      "metadata": {
        "id": "gLVH6OM7kNGH"
      }
    },
    {
      "cell_type": "code",
      "source": [
        "languages = [\"english\", \"deutsch\", \"türkçe\"]"
      ],
      "metadata": {
        "id": "sN3GMIsBkV_Q"
      },
      "execution_count": null,
      "outputs": []
    },
    {
      "cell_type": "markdown",
      "source": [
        "Now, we should write a code that gives opportunity to player to choose a language from list \"languages\"."
      ],
      "metadata": {
        "id": "5EBuyxHQk8TY"
      }
    },
    {
      "cell_type": "code",
      "source": [
        "while True:\n",
        "    print(\"-\" * 200)  # You will see these line of code among the whole script. I used these to have some order and aesthetic in the game.\n",
        "    print(\"Choose a language to continue.\")\n",
        "    print(\"You can choose either English, Deutsch, or Türkçe.\") # Here the code offers options to the player\n",
        "    language_preference = input(\"Which language do you prefer?: \").lower()\n",
        "    # We use \".lower()\" to make things written here all lowercase so that Python's case sensitivity doesn't cause problems later.\n",
        "    print(\"-\" * 200)\n",
        "    if language_preference not in languages:\n",
        "        print(\"Please write something valid.\")\n",
        "        continue  # If sth. is wrong written or if the player choose another language that is not included in this game, with this part of code, computer will be asking to the player a valid language input.\n",
        "    else:\n",
        "        break # If the language input is valid then this code will take us out of the while loop."
      ],
      "metadata": {
        "id": "HckJMsIblKqb"
      },
      "execution_count": null,
      "outputs": []
    },
    {
      "cell_type": "markdown",
      "source": [
        "To beat the undefined variable issue, we need to initialize our variables at some point."
      ],
      "metadata": {
        "id": "MQ2ORUKkmiNq"
      }
    },
    {
      "cell_type": "code",
      "source": [
        "player_round_score = 0\n",
        "computer_round_score = 0\n",
        "player_game_score = 0\n",
        "computer_game_score = 0\n",
        "game_number = 0\n",
        "round_number = 0\n",
        "winner = None"
      ],
      "metadata": {
        "id": "kBylMSkQmtHm"
      },
      "execution_count": null,
      "outputs": []
    },
    {
      "cell_type": "markdown",
      "source": [
        "To offer different languages to the player we need to create our game logic's backbone with if-blocks. We will be typing our code under these if and elif and else conditions."
      ],
      "metadata": {
        "id": "M6r-us95mxGw"
      }
    },
    {
      "cell_type": "code",
      "source": [
        "if language_preference == \"english\":  # English language implementation\n",
        "  pass\n",
        "elif language_preference == \"deutsch\":  # German language implementation\n",
        "  pass\n",
        "else:  # Turkish language implementation\n",
        "  pass"
      ],
      "metadata": {
        "id": "932Ue40goxQr"
      },
      "execution_count": null,
      "outputs": []
    },
    {
      "cell_type": "markdown",
      "source": [
        "From now on all the code we will write, will be under the condition\n",
        "\n",
        "```\n",
        "if language_preference == \"english\":\n",
        "```\n",
        "Before interacting with player, we need to create a list of actions: Rock, Paper, and Scissors.\n"
      ],
      "metadata": {
        "id": "5G5ax0IQpD1C"
      }
    },
    {
      "cell_type": "code",
      "source": [
        "actions = [\"rock\", \"paper\", \"scissors\"]"
      ],
      "metadata": {
        "id": "TpvKsxb9pXdM"
      },
      "execution_count": null,
      "outputs": []
    },
    {
      "cell_type": "markdown",
      "source": [
        "Let's say hello to player and have a little chat."
      ],
      "metadata": {
        "id": "JV5xZeACpxPF"
      }
    },
    {
      "cell_type": "code",
      "source": [
        "print(\"Hello stranger! Before I ask you if you'll play with me, I want to know your name. Also, you have to choose a name for me.\")\n",
        "print(\"Oh, who am I? I am your computer silly, DUH!\")"
      ],
      "metadata": {
        "id": "EMYB14x0p7HF"
      },
      "execution_count": null,
      "outputs": []
    },
    {
      "cell_type": "markdown",
      "source": [
        "Now, for a more humane conversation, we will ask the player to give herself/himself and the computer a name."
      ],
      "metadata": {
        "id": "gyavY4foqFDa"
      }
    },
    {
      "cell_type": "code",
      "source": [
        "print(\"-\" * 200)\n",
        "players_name = input(\"Please enter your name: \")\n",
        "computers_name = input(\"Please give a name to me: \")\n",
        "print(\"Nice to meet you \" + str(players_name) + \" and thank you for the name that you gave me!\")\n",
        "print(\"-\" * 200)"
      ],
      "metadata": {
        "id": "ce-yddD9qQKX"
      },
      "execution_count": null,
      "outputs": []
    },
    {
      "cell_type": "markdown",
      "source": [
        "At this moment we need to ask to player, if she/he wants to play."
      ],
      "metadata": {
        "id": "JYZjzvdAq5TA"
      }
    },
    {
      "cell_type": "code",
      "source": [
        "while True:\n",
        "      is_playing = input(\"Do you want to play rock-paper-scissors? You can answer shortly 'yes' or 'no'. \").lower()\n",
        "      if is_playing not in [\"yes\", \"no\"]:\n",
        "          print(\"You entered an invalid answer. Please write either 'yes' or 'no'.\")\n",
        "          continue  # Making sure the player gave a valid answer\n",
        "      else:\n",
        "          break"
      ],
      "metadata": {
        "id": "HqlYfHErq5-w"
      },
      "execution_count": null,
      "outputs": []
    },
    {
      "cell_type": "markdown",
      "source": [
        "The next section is going to be a little bit longer because the blocks here are nested. First we are checking if the player wants to play (with if-block). If she/he wants to play we are moving onto second block, which is a while-loop. Here we are asking from the player to answer the question \"Do you want to read the rules of the game before we start?\" and want to make sure the player gives a valid answer. After we got guaranteed the player gave a valid answer, with using another if-block, we are giving the rules if the player wanted to read or we don't give the rules and just displaying a message that tells \"Ok, then let's move on to the game quickly.\""
      ],
      "metadata": {
        "id": "uYbrNDIVrYTh"
      }
    },
    {
      "cell_type": "code",
      "source": [
        "if is_playing == \"no\":  # If the player doesn't want to play\n",
        "    print(\"Oh, OK :(( You can come and play whenever you want, I am always here for you.\")\n",
        "    print(\"-\" * 200)\n",
        "else:  # If the player wants to play\n",
        "\n",
        "    # Asking if the player wants to read the rules of the game\n",
        "    while True:  # Asking if the player wants to read rules\n",
        "        is_reading_rules = input(\n",
        "            \"Do you want to read the rules of the game before we start? You can answer 'yes' or 'no'. \").lower()\n",
        "        if is_reading_rules not in [\"yes\", \"no\"]:\n",
        "            print(\"You entered an invalid answer. Please write either 'yes' or 'no'.\")\n",
        "            continue  # Making sure the player gave a valid answer\n",
        "        else:\n",
        "            break\n",
        "\n",
        "    if is_reading_rules == \"yes\":  # If the player wants to read the rules\n",
        "        print(\"-\" * 200)\n",
        "        print(\"#### RULES OF THE GAME: ROCK-PAPER-SCISSORS ####\")\n",
        "        print(\"The game rock-paper-scissors is a very popular game among people of all ages.\")\n",
        "        print(\"It is often used to make decisions, such as who gets the last piece of cake, who starts a game \"\n",
        "              \"first, or who goes to the store.\")\n",
        "        print(\"The basic rules are: Rock beats scissors, scissors beat paper, and paper beats rock.\")\n",
        "        print(\"In this version, you'll choose an action—rock, paper, or scissors—and the computer will choose its \"\n",
        "              \"action randomly.\")\n",
        "        print(\"Each game consists of rounds, and the game ends when one player wins 2 rounds.\")\n",
        "        print(\"After each game, you'll be asked if you want to play again.\")\n",
        "        print(\"-\" * 200)\n",
        "    else:  # If the player doesn't want to read the rules\n",
        "        print(\"-\" * 200)\n",
        "        print(\"Ok, then let's move on to the game quickly.\")"
      ],
      "metadata": {
        "id": "MATDEp3PrX8Y"
      },
      "execution_count": null,
      "outputs": []
    },
    {
      "cell_type": "markdown",
      "source": [
        "NOW HERE WE ARE AT THE VERY **MOMENT OF TRUTH**: We are creating the main loop of the game.\n",
        "Fancy things that have been here used:\n",
        "- while-loops\n",
        "\n",
        "In this section of code we use while-loops 4 different places.\n",
        "  1. Used to make the game_number counter incremented with one by each iteration.\n",
        "  2. Used to controll if everybody's round score is under 2, and also increments the round number with one by each iteration.\n",
        "  3. Used to make sure, if the player gave a valid answer to choosing an action.\n",
        "  4. Used to make sure, if the player gave a valid answer to the question \"Do you want to play another game?\".\n",
        "\n",
        "- if-blocks\n",
        "\n",
        "In this section of code we use if-block 5 different places.\n",
        "  1. inside of a while-loop, it check if the player gave a valid answer or not.\n",
        "  2. It checks if there are any winner of the round or is it a draw, and announce the correct message according to the situation.\n",
        "  3. It checks if someone has reached to 2 wins, and adds +1 game score to the winner of the game.\n",
        "  4. inside of a while-loop, it check if the player gave a valid answer or not.\n",
        "  5. It checks if the computer wants to keep playing the game, and if not then ends the while-loop.\n",
        "\n",
        "\n",
        "- function-calling"
      ],
      "metadata": {
        "id": "iCwr8SE6s45L"
      }
    },
    {
      "cell_type": "code",
      "source": [
        "while True:\n",
        "    game_number += 1  # This way game number can be incremented by each iteration\n",
        "    print(f\"#################### GAME {game_number} ###############################\")  # Title for the game\n",
        "\n",
        "    while player_round_score < 2 and computer_round_score < 2:\n",
        "        # As long as both of the players' scores are smaller than 2 (excluding) this block will be executed.\n",
        "        round_number += 1  # Round number is incremented by each round thx to this code line ♡\n",
        "        print(f\"ROUND {round_number} of GAME {game_number}\")\n",
        "\n",
        "        # Taking choice of player\n",
        "        while True:\n",
        "            choice_of_player = input(\"Please choose one of the actions: Rock, Paper, Scissors. Please be \"\n",
        "                                      \"careful to write your choice correctly: \").lower()\n",
        "            if choice_of_player not in actions:\n",
        "                print(\"You entered an invalid action. Please write either 'rock', 'paper', or 'scissors'.\")\n",
        "                continue  # Making sure the player gave a valid answer\n",
        "            else:\n",
        "                break\n",
        "\n",
        "        # Taking choice of computer\n",
        "        choice_of_computer = random.choice(actions)\n",
        "        print(str(computers_name) + \" has chosen \" + choice_of_computer)\n",
        "\n",
        "        # Evaluating the winner of the round\n",
        "        evaluate_winner(choice_of_player, choice_of_computer)\n",
        "\n",
        "        if winner == computers_name:\n",
        "            print(f\"{computers_name} won this round. Congratulations {computers_name}!\")\n",
        "        elif winner == players_name:\n",
        "            print(f\"{players_name} won this round. Congratulations {players_name}!\")\n",
        "        else:\n",
        "            print(\"The situation is a draw. For this round, we have no winner.\")\n",
        "\n",
        "        print(\n",
        "            f\"Round score: {players_name} has {player_round_score} wins. {computers_name} has \"\n",
        "            f\"{computer_round_score} wins.\")\n",
        "        print(\"-\" * 200)\n",
        "\n",
        "    # Determine the winner of the game\n",
        "    if player_round_score == 2:\n",
        "        player_game_score += 1\n",
        "        print(f\"{players_name} won GAME {game_number}!\")\n",
        "    elif computer_round_score == 2:\n",
        "        computer_game_score += 1\n",
        "        print(f\"{computers_name} won GAME {game_number}!\")\n",
        "\n",
        "    # Reset round scores for the next game\n",
        "    player_round_score = 0\n",
        "    computer_round_score = 0\n",
        "    round_number = 0\n",
        "\n",
        "    # Display the scoreboard\n",
        "    display_scoreboard()\n",
        "\n",
        "    # Asking if the players want to play another game\n",
        "    while True:\n",
        "        print(\"-\" * 200)\n",
        "        play_again = input(\"Do you want to play another game? Type 'yes' to continue or 'no' to stop: \").lower()\n",
        "        if play_again not in [\"yes\", \"no\"]:\n",
        "            print(\"You entered an invalid answer. Please write either 'yes' or 'no'.\")\n",
        "            continue  # Making sure the player gave a valid answer\n",
        "        else:\n",
        "            break\n",
        "\n",
        "    if play_again == \"no\":\n",
        "        print(\"Thank you for playing! See you next time.\")\n",
        "        break\n",
        "\n",
        "    # Computer decides if it wants to play again\n",
        "    computer_response = random.choices([\"yes\", \"no\"], [0.8, 0.2])[0]\n",
        "    print(f\"{computers_name} says: '{computer_response}'\")\n",
        "\n",
        "    if computer_response == \"no\":\n",
        "        print(f\"{computers_name} doesn't want to play another game.\")\n",
        "        break"
      ],
      "metadata": {
        "id": "thmuWVCKs5VZ"
      },
      "execution_count": null,
      "outputs": []
    },
    {
      "cell_type": "markdown",
      "source": [
        "When somebody does not want to play anymore we need to declare it and for the last time we should show the final score board."
      ],
      "metadata": {
        "id": "VnYTj7MyxNTD"
      }
    },
    {
      "cell_type": "code",
      "source": [
        "print(\"Game Over. Final Scores:\")\n",
        "display_scoreboard()"
      ],
      "metadata": {
        "id": "pSfFgOoVxUoh"
      },
      "execution_count": null,
      "outputs": []
    },
    {
      "cell_type": "markdown",
      "source": [
        "# END VERSION OF THE CODE"
      ],
      "metadata": {
        "id": "ePVpoie2ige0"
      }
    },
    {
      "cell_type": "code",
      "execution_count": null,
      "metadata": {
        "id": "uTb6OGlJDQMQ"
      },
      "outputs": [],
      "source": [
        "import random\n",
        "\n",
        "# Function to evaluate the winner of the round\n",
        "def evaluate_winner(choice_of_player, choice_of_computer):\n",
        "    global player_round_score, computer_round_score, winner\n",
        "\n",
        "    if (choice_of_player in [\"rock\", \"stein\", \"taş\"] and choice_of_computer in [\"paper\", \"papier\", \"kağıt\"]) or \\\n",
        "       (choice_of_player in [\"paper\", \"papier\", \"kağıt\"] and choice_of_computer in [\"scissors\", \"schere\",\n",
        "        \"makas\"]) or \\\n",
        "       (choice_of_player in [\"scissors\", \"schere\", \"makas\"] and choice_of_computer in [\"rock\", \"stein\", \"taş\"]):\n",
        "        winner = computers_name\n",
        "        computer_round_score += 1\n",
        "    elif (choice_of_computer in [\"rock\", \"stein\", \"taş\"] and choice_of_player in [\"paper\", \"papier\", \"kağıt\"]) or \\\n",
        "         (choice_of_computer in [\"paper\", \"papier\", \"kağıt\"] and choice_of_player in [\"scissors\", \"schere\",\n",
        "          \"makas\"]) or \\\n",
        "         (choice_of_computer in [\"scissors\", \"schere\", \"makas\"] and choice_of_player in [\"rock\", \"stein\", \"taş\"]):\n",
        "        winner = players_name\n",
        "        player_round_score += 1\n",
        "    else:\n",
        "        winner = None\n",
        "\n",
        "# Function to display the game score\n",
        "def display_scoreboard():\n",
        "    cell_width = max(len(players_name), len(computers_name), len(str(player_game_score)),\n",
        "                     len(str(computer_game_score))) + 2  # We add 2 for side spaces.\n",
        "    line = \"+\" + \"-\" * cell_width + \"+\" + \"-\" * cell_width + \"+\"  # Drawing the horizontal line.\n",
        "    print(line)\n",
        "    print(f\"| {players_name.center(cell_width - 2)} | {computers_name.center(cell_width - 2)} |\")\n",
        "    print(line)\n",
        "    print(f\"| {str(player_game_score).center(cell_width - 2)} | {str(computer_game_score).center(cell_width - 2)} |\")\n",
        "    print(line)\n",
        "\n",
        "\n",
        "# List of available languages\n",
        "languages = [\"english\", \"deutsch\", \"türkçe\"]\n",
        "\n",
        "# Choosing the language\n",
        "while True:\n",
        "    print(\"-\" * 200)\n",
        "    print(\"Choose a language to continue.\")\n",
        "    print(\"You can choose either English, Deutsch, or Türkçe.\")\n",
        "    language_preference = input(\"Which language do you prefer?: \").lower()\n",
        "    print(\"-\" * 200)\n",
        "    if language_preference not in languages:\n",
        "        print(\"Please write something valid.\")\n",
        "        continue\n",
        "    else:\n",
        "        break\n",
        "\n",
        "# Initializing the variables and counters\n",
        "player_round_score = 0\n",
        "computer_round_score = 0\n",
        "player_game_score = 0\n",
        "computer_game_score = 0\n",
        "game_number = 0\n",
        "round_number = 0\n",
        "winner = None\n",
        "\n",
        "# Game logic starts here\n",
        "if language_preference == \"english\":  # English language implementation\n",
        "\n",
        "    # possible actions (eng)\n",
        "    actions = [\"rock\", \"paper\", \"scissors\"]\n",
        "\n",
        "    # Welcome message\n",
        "    print(\"Hello stranger! Before I ask you if you'll play with me, I want to know your name. Also, you have to choose \"\n",
        "          \"a name for me.\")\n",
        "    print(\"Oh, who am I? I am your computer silly, DUH!\")\n",
        "\n",
        "    # Learning player's name and what she/he wants to call computer\n",
        "    print(\"-\" * 200)\n",
        "    players_name = input(\"Please enter your name: \")\n",
        "    computers_name = input(\"Please give a name to me: \")\n",
        "    print(\"Nice to meet you \" + str(players_name) + \" and thank you for the name that you gave me!\")\n",
        "    print(\"-\" * 200)\n",
        "\n",
        "    # Asking player if she/he wants to play\n",
        "    while True:\n",
        "        is_playing = input(\"Do you want to play rock-paper-scissors? You can answer shortly 'yes' or 'no'. \").lower()\n",
        "        if is_playing not in [\"yes\", \"no\"]:\n",
        "            print(\"You entered an invalid answer. Please write either 'yes' or 'no'.\")\n",
        "            continue  # Making sure the player gave a valid answer\n",
        "        else:\n",
        "            break\n",
        "\n",
        "    if is_playing == \"no\":  # If the player doesn't want to play\n",
        "        print(\"Oh, OK :(( You can come and play whenever you want, I am always here for you.\")\n",
        "        print(\"-\" * 200)\n",
        "    else:  # If the player wants to play\n",
        "\n",
        "        # Asking if the player wants to read the rules of the game\n",
        "        while True:  # Asking if the player wants to read rules\n",
        "            is_reading_rules = input(\n",
        "                \"Do you want to read the rules of the game before we start? You can answer 'yes' or 'no'. \").lower()\n",
        "            if is_reading_rules not in [\"yes\", \"no\"]:\n",
        "                print(\"You entered an invalid answer. Please write either 'yes' or 'no'.\")\n",
        "                continue  # Making sure the player gave a valid answer\n",
        "            else:\n",
        "                break\n",
        "\n",
        "        if is_reading_rules == \"yes\":  # If the player wants to read the rules\n",
        "            print(\"-\" * 200)\n",
        "            print(\"#### RULES OF THE GAME: ROCK-PAPER-SCISSORS ####\")\n",
        "            print(\"The game rock-paper-scissors is a very popular game among people of all ages.\")\n",
        "            print(\"It is often used to make decisions, such as who gets the last piece of cake, who starts a game \"\n",
        "                  \"first, or who goes to the store.\")\n",
        "            print(\"The basic rules are: Rock beats scissors, scissors beat paper, and paper beats rock.\")\n",
        "            print(\"In this version, you'll choose an action—rock, paper, or scissors—and the computer will choose its \"\n",
        "                  \"action randomly.\")\n",
        "            print(\"Each game consists of rounds, and the game ends when one player wins 2 rounds.\")\n",
        "            print(\"After each game, you'll be asked if you want to play again.\")\n",
        "            print(\"-\" * 200)\n",
        "        else:  # If the player doesn't want to read the rules\n",
        "            print(\"-\" * 200)\n",
        "            print(\"Ok, then let's move on to the game quickly.\")\n",
        "\n",
        "        # Main game loop\n",
        "        while True:\n",
        "            game_number += 1  # This way game number can be incremented by each iteration\n",
        "            print(f\"#################### GAME {game_number} ###############################\")  # Title for the game\n",
        "\n",
        "            while player_round_score < 2 and computer_round_score < 2:\n",
        "                # As long as both of the players' scores are smaller than 2 (excluding) this block will be executed.\n",
        "                round_number += 1  # Round number is incremented by each round thx to this code line ♡\n",
        "                print(f\"ROUND {round_number} of GAME {game_number}\")\n",
        "\n",
        "                # Taking choice of player\n",
        "                while True:\n",
        "                    choice_of_player = input(\"Please choose one of the actions: Rock, Paper, Scissors. Please be \"\n",
        "                                             \"careful to write your choice correctly: \").lower()\n",
        "                    if choice_of_player not in actions:\n",
        "                        print(\"You entered an invalid action. Please write either 'rock', 'paper', or 'scissors'.\")\n",
        "                        continue  # Making sure the player gave a valid answer\n",
        "                    else:\n",
        "                        break\n",
        "\n",
        "                # Taking choice of computer\n",
        "                choice_of_computer = random.choice(actions)\n",
        "                print(str(computers_name) + \" has chosen \" + choice_of_computer)\n",
        "\n",
        "                # Evaluating the winner of the round\n",
        "                evaluate_winner(choice_of_player, choice_of_computer)\n",
        "\n",
        "                if winner == computers_name:\n",
        "                    print(f\"{computers_name} won this round. Congratulations {computers_name}!\")\n",
        "                elif winner == players_name:\n",
        "                    print(f\"{players_name} won this round. Congratulations {players_name}!\")\n",
        "                else:\n",
        "                    print(\"The situation is a draw. For this round, we have no winner.\")\n",
        "\n",
        "                print(\n",
        "                    f\"Round score: {players_name} has {player_round_score} wins. {computers_name} has \"\n",
        "                    f\"{computer_round_score} wins.\")\n",
        "                print(\"-\" * 200)\n",
        "\n",
        "            # Determine the winner of the game\n",
        "            if player_round_score == 2:\n",
        "                player_game_score += 1\n",
        "                print(f\"{players_name} won GAME {game_number}!\")\n",
        "            elif computer_round_score == 2:\n",
        "                computer_game_score += 1\n",
        "                print(f\"{computers_name} won GAME {game_number}!\")\n",
        "\n",
        "            # Reset round scores for the next game\n",
        "            player_round_score = 0\n",
        "            computer_round_score = 0\n",
        "            round_number = 0\n",
        "\n",
        "            # Display the scoreboard\n",
        "            display_scoreboard()\n",
        "\n",
        "            # Asking if the players want to play another game\n",
        "            while True:\n",
        "                print(\"-\" * 200)\n",
        "                play_again = input(\"Do you want to play another game? Type 'yes' to continue or 'no' to stop: \").lower()\n",
        "                if play_again not in [\"yes\", \"no\"]:\n",
        "                    print(\"You entered an invalid answer. Please write either 'yes' or 'no'.\")\n",
        "                    continue  # Making sure the player gave a valid answer\n",
        "                else:\n",
        "                    break\n",
        "\n",
        "            if play_again == \"no\":\n",
        "                print(\"Thank you for playing! See you next time.\")\n",
        "                break\n",
        "\n",
        "            # Computer decides if it wants to play again\n",
        "            computer_response = random.choices([\"yes\", \"no\"], [0.8, 0.2])[0]\n",
        "            print(f\"{computers_name} says: '{computer_response}'\")\n",
        "\n",
        "            if computer_response == \"no\":\n",
        "                print(f\"{computers_name} doesn't want to play another game.\")\n",
        "                break\n",
        "\n",
        "        print(\"Game Over. Final Scores:\")\n",
        "        display_scoreboard()\n",
        "\n",
        "elif language_preference == \"deutsch\":  # German langugae implementation\n",
        "\n",
        "    # possible actions (deu)\n",
        "    actions = [\"stein\", \"papier\", \"schere\"]\n",
        "\n",
        "    # Welcome message\n",
        "    print(\n",
        "        \"Hallo Fremder! Bevor ich dich frage, ob du mit mir spielen willst, möchte ich deinen Namen wissen. Außerdem \"\n",
        "        \"musst du einen Namen für mich aussuchen.\")\n",
        "    print(\"Oh, wer bin ich? Ich bin dein Computer, du Dummerchen, DUH!\")\n",
        "\n",
        "    # Learning player's name and what she/he wants to call computer\n",
        "    print(\"-\" * 200)\n",
        "    players_name = input(\"Bitte geben Sie Ihren Namen ein: \")\n",
        "    computers_name = input(\"Bitte geben Sie mir einen Namen: \")\n",
        "    print(\"Nett dich kennenzulernen, \" + str(players_name) + \" und danke für den Namen, den du mir gegeben hast!\")\n",
        "    print(\"-\" * 200)\n",
        "\n",
        "    # Asking player if she/he wants to play\n",
        "    while True:\n",
        "        is_playing = input(\n",
        "            \"Willst du Schere-Stein-Papier spielen? Dann kannst du kurz mit „Ja“ oder „Nein“ antworten. \").lower()\n",
        "        if is_playing not in [\"ja\", \"nein\"]:\n",
        "            print(\"Ihre Antwort ist ungültig. Bitte schreiben Sie entweder „ja“ oder „nein“.\")\n",
        "            continue\n",
        "        else:\n",
        "            break\n",
        "\n",
        "    if is_playing == \"nein\":\n",
        "        print(\"Oh, OK :(( Du kannst kommen und spielen, wann immer du willst, ich bin immer für dich da.\")\n",
        "        print(\"-\" * 200)\n",
        "    else:\n",
        "        # Asking if the player wants to read the rules of the game\n",
        "        while True:\n",
        "            is_reading_rules = input(\n",
        "                \"Möchten Sie die Spielregeln lesen, bevor wir beginnen? Sie können mit „Ja“ oder „Nein“ \"\n",
        "                \"antworten. \").lower()\n",
        "            if is_reading_rules not in [\"ja\", \"nein\"]:\n",
        "                print(\"Ihre Antwort ist ungültig. Bitte schreiben Sie entweder „ja“ oder „nein“.\")\n",
        "                continue\n",
        "            else:\n",
        "                break\n",
        "\n",
        "        if is_reading_rules == \"ja\":\n",
        "            print(\"-\" * 200)\n",
        "            print(\"#### SPIELREGELN: SCHERE-STEIN-PAPIER ####\")\n",
        "            print(\"Das Spiel Schere-Stein-Papier ist bei Menschen jeden Alters sehr beliebt.\")\n",
        "            print(\"Es wird oft verwendet, um Entscheidungen zu treffen, z. B. wer das letzte Stück Kuchen bekommt, wer \"\n",
        "                  \"zuerst ein Spiel beginnt oder wer zum Laden geht.\")\n",
        "            print(\"Die Grundregeln lauten: Stein schlägt Schere, Schere schlägt Papier und Papier schlägt Stein.\")\n",
        "            print(\"In dieser Version wählen Sie eine Aktion – Stein, Papier oder Schere – und der Computer wählt seine \"\n",
        "                  \"Aktion nach dem Zufallsprinzip.\")\n",
        "            print(\"Jedes Spiel besteht aus Runden und endet, wenn ein Spieler 2 Runden gewinnt.\")\n",
        "            print(\"Nach jedem Spiel werden Sie gefragt, ob Sie erneut spielen möchten.\")\n",
        "            print(\"-\" * 200)\n",
        "        else:\n",
        "            print(\"-\" * 200)\n",
        "            print(\"Ok, dann lasst uns schnell zum Spiel kommen.\")\n",
        "\n",
        "        # Main game loop\n",
        "        while True:\n",
        "            game_number += 1\n",
        "            print(f\"#################### SPIEL {game_number} ###############################\")\n",
        "\n",
        "            while player_round_score < 2 and computer_round_score < 2:\n",
        "                round_number += 1\n",
        "                print(f\"RUNDE {round_number} von SPIEL {game_number}\")\n",
        "\n",
        "                # Taking choice of player\n",
        "                while True:\n",
        "                    choice_of_player = input(\n",
        "                        \"Bitte wählen Sie eine der Aktionen: Schere, Stein, Papier. Achten Sie bitte darauf, Ihre \"\n",
        "                        \"Auswahl richtig zu schreiben: \").lower()\n",
        "                    if choice_of_player not in actions:\n",
        "                        print(\n",
        "                            \"Sie haben eine ungültige Aktion eingegeben. Bitte schreiben Sie entweder „Stein“, „Papier“\"\n",
        "                            \" oder „Schere“.\")\n",
        "                        continue\n",
        "                    else:\n",
        "                        break\n",
        "\n",
        "                # Taking choice of computer\n",
        "                choice_of_computer = random.choice(actions)\n",
        "                print(str(computers_name) + \" hat \" + choice_of_computer + \" ausgewählt.\")\n",
        "\n",
        "                # Evaluating the winner of the round\n",
        "                evaluate_winner(choice_of_player, choice_of_computer)\n",
        "\n",
        "                if winner == computers_name:\n",
        "                    print(f\"{computers_name} hat diese Runde gewonnen. Herzlichen Glückwunsch, {computers_name}!\")\n",
        "                elif winner == players_name:\n",
        "                    print(f\"{players_name} hat diese Runde gewonnen. Herzlichen Glückwunsch, {players_name}!\")\n",
        "                else:\n",
        "                    print(\"Das Ergebnis ist unentschieden. Für diese Runde gibt es keinen Gewinner.\")\n",
        "\n",
        "                print(\n",
        "                    f\"Rundenergebnis: {players_name} hat {player_round_score} Siege. {computers_name} hat \"\n",
        "                    f\"{computer_round_score} Siege.\")\n",
        "                print(\"-\" * 200)\n",
        "\n",
        "            # Determine the winner of the game\n",
        "            if player_round_score == 2:\n",
        "                player_game_score += 1\n",
        "                print(f\"{players_name} gewann SPIEL {game_number}!\")\n",
        "            elif computer_round_score == 2:\n",
        "                computer_game_score += 1\n",
        "                print(f\"{computers_name} gewann SPIEL {game_number}!\")\n",
        "\n",
        "            # Reset round scores for the next game\n",
        "            player_round_score = 0\n",
        "            computer_round_score = 0\n",
        "            round_number = 0\n",
        "\n",
        "            # Display the scoreboard\n",
        "            display_scoreboard()\n",
        "\n",
        "            # Asking if the players want to play another game\n",
        "            while True:\n",
        "                print(\"-\" * 200)\n",
        "                play_again = input(\n",
        "                    \"Möchten Sie ein anderes Spiel spielen? Geben Sie „Ja“ ein, um fortzufahren, oder „Nein“, um \"\n",
        "                    \"aufzuhören: \").lower()\n",
        "                if play_again not in [\"ja\", \"nein\"]:\n",
        "                    print(\"Ihre Antwort ist ungültig. Bitte schreiben Sie entweder „ja“ oder „nein“.\")\n",
        "                    continue\n",
        "                else:\n",
        "                    break\n",
        "\n",
        "            if play_again == \"nein\":\n",
        "                print(\"Vielen Dank fürs Spielen! Bis zum nächsten Mal.\")\n",
        "                break\n",
        "\n",
        "            # Computer decides if it wants to play again\n",
        "            computer_response = random.choices([\"ja\", \"nein\"], [0.8, 0.2])[0]\n",
        "            print(f\"{computers_name} sagt: '{computer_response}'\")\n",
        "\n",
        "            if computer_response == \"nein\":\n",
        "                print(f\"{computers_name} möchte nicht spielen mehr.\")\n",
        "                break\n",
        "\n",
        "        print(\"Spiel vorbei. Endergebnisse:\")\n",
        "        display_scoreboard()\n",
        "\n",
        "else:  # Turkish language implementation\n",
        "\n",
        "    # possible actions (tur)\n",
        "    actions = [\"taş\", \"kağıt\", \"makas\"]\n",
        "\n",
        "    # Welcome message\n",
        "    print(\n",
        "        \"Merhaba yabancı! Benimle oyun oynaıp oynamayacağını sormadan önce adını öğrenmek isterim. Ayrıca benim için de\"\n",
        "        \" bir isim seçmelisin.\")\n",
        "    print(\"Aa, ben kim miyim? Ben senin bilgisayarınım şapşik!\")\n",
        "\n",
        "    # Learning player's name and what she/he wants to call computer\n",
        "    print(\"-\" * 200)\n",
        "    players_name = input(\"Lütfen adını yaz:  \")\n",
        "    computers_name = input(\"Lütfen bana bir isim ver: \")\n",
        "    print(\"Tanıştığımıza memnun oldum \" + str(players_name) + \" ve bana verdiğin isim için de teşekkür ederim!\")\n",
        "    print(\"-\" * 200)\n",
        "\n",
        "    # Asking player if she/he wants to play\n",
        "    while True:\n",
        "        is_playing = input(\n",
        "            \"Taş-kağıt-makas oynamak ister misin? Kısaca 'evet' ya da 'hayır' olarak yanıtlayabilirsin. \").lower()\n",
        "        if is_playing not in [\"evet\", \"hayır\"]:\n",
        "            print(\"Geçersiz bir yanıt girdin. Lütfen ya 'evet' ya da 'hayır' yaz.\")\n",
        "            continue\n",
        "        else:\n",
        "            break\n",
        "\n",
        "    if is_playing == \"hayır\":\n",
        "        print(\"Aa, tamam o zaman.:(( Ne zaman istersen tekrar gelebilirsin, senin için daima buradayım.\")\n",
        "        print(\"-\" * 200)\n",
        "    else:\n",
        "        # Asking if the player wants to read the rules of the game\n",
        "        while True:\n",
        "            is_reading_rules = input(\n",
        "                \"Başlamadan önce oyunun kurallarını okumak ister misin? 'Evet' veya 'hayır' şeklinde yanıt \"\n",
        "                \"verebilirsin. \").lower()\n",
        "            if is_reading_rules not in [\"evet\", \"hayır\"]:\n",
        "                print(\"Geçersiz bir yanıt girdin. Lütfen ya 'evet' ya da 'hayır' yaz.\")\n",
        "                continue\n",
        "            else:\n",
        "                break\n",
        "\n",
        "        if is_reading_rules == \"evet\":\n",
        "            print(\"-\" * 200)\n",
        "            print(\"#### OYUNUN KURALLARI: TAŞ-KAĞIT-MAKAS ####\")\n",
        "            print(\"Taş-kağıt-makas oyunu her yaştan insan arasında oldukça popüler bir oyundur.\")\n",
        "            print(\n",
        "                \"Genellikle son pasta dilimini kimin alacağı, oyuna kimin önce başlayacağı veya kimin markete gideceği \"\n",
        "                \"gibi kararlar almak için kullanılır.\")\n",
        "            print(\"Temel kurallar şunlardır: Taş makası yener, makas kağıdı yener ve kağıt taşı yener.\")\n",
        "            print(\n",
        "                \"Bu versiyonda, bir eylem seçersiniz—taş, kağıt veya makas—ve bilgisayar kendi eylemini rastgele seçer.\")\n",
        "            print(\"Her oyun turlardan oluşur ve oyun herhangi bir oyuncu 2 tur kazandığında sona erer.\")\n",
        "            print(\n",
        "                \"Her oyundan sonra, tekrar oynamak isteyip istemediğiniz sorulur.\")\n",
        "            print(\"-\" * 200)\n",
        "        else:\n",
        "            print(\"-\" * 200)\n",
        "            print(\"Tamam o zaman hemen oyuna geçelim.\")\n",
        "\n",
        "        # Main game loop\n",
        "        while True:\n",
        "            game_number += 1\n",
        "            print(f\"#################### OYUN {game_number} ###############################\")\n",
        "\n",
        "            while player_round_score < 2 and computer_round_score < 2:\n",
        "                round_number += 1\n",
        "                print(f\"OYUN {game_number} / TUR {round_number}\")\n",
        "\n",
        "                # Taking choice of player\n",
        "                while True:\n",
        "                    choice_of_player = input(\n",
        "                        \"Lütfen şu hareketlerden birini seç: Taş, kağıt, makas. Lütfen cevabını doğru yazmaya dikkat \"\n",
        "                        \"et. \").lower()\n",
        "                    if choice_of_player not in actions:\n",
        "                        print(\"Geçersiz bir yanıt girdin. Lütfen ya 'taş' ya 'kağıt' ya da 'makas' yaz.\")\n",
        "                        continue\n",
        "                    else:\n",
        "                        break\n",
        "\n",
        "                # Taking choice of computer\n",
        "                choice_of_computer = random.choice(actions)\n",
        "                print(str(computers_name) + \" şunu seçti: \" + choice_of_computer)\n",
        "\n",
        "                # Evaluating the winner of the round\n",
        "                evaluate_winner(choice_of_player, choice_of_computer)\n",
        "\n",
        "                if winner == computers_name:\n",
        "                    print(f\"{computers_name} bu turu kazandı. Tebrikler {computers_name}!\")\n",
        "                elif winner == players_name:\n",
        "                    print(f\"{players_name} bu turu kazandı. Tebrikler {players_name}!\")\n",
        "                else:\n",
        "                    print(\"Durum berabere. Bu tur için bir kazananımız yok.\")\n",
        "\n",
        "                print(\n",
        "                    f\"Tur sonu skor durumu: {players_name} --> {player_round_score} : {computers_name} --> \"\n",
        "                    f\"{computer_round_score}\")\n",
        "                print(\"-\" * 200)\n",
        "\n",
        "            # Determine the winner of the game\n",
        "            if player_round_score == 2:\n",
        "                player_game_score += 1\n",
        "                print(f\"OYUN {game_number}, {players_name} tarafından kazanıldı!\")\n",
        "            elif computer_round_score == 2:\n",
        "                computer_game_score += 1\n",
        "                print(f\"OYUN {game_number}, {computers_name} tarafından kazanıldı!\")\n",
        "\n",
        "            # Reset round scores for the next game\n",
        "            player_round_score = 0\n",
        "            computer_round_score = 0\n",
        "            round_number = 0\n",
        "\n",
        "            # Display the scoreboard\n",
        "            display_scoreboard()\n",
        "\n",
        "            # Asking if the players want to play another game\n",
        "            while True:\n",
        "                print(\"-\" * 200)\n",
        "                play_again = input(\"Bir kez daha oynamak ister misin? Devam etmek için 'evet', durmak için 'hayır' \"\n",
        "                                   \"yaz. \").lower()\n",
        "                if play_again not in [\"evet\", \"hayır\"]:\n",
        "                    print(\"Geçersiz bir yanıt girdin. Lütfen ya 'evet' ya da 'hayır' yaz.\")\n",
        "                    continue\n",
        "                else:\n",
        "                    break\n",
        "\n",
        "            if play_again == \"hayır\":\n",
        "                print(\"Oynadığın için teşekkürler! Bir dahaki sefere görüşmek üzere.\")\n",
        "                break\n",
        "\n",
        "            # Computer decides if it wants to play again\n",
        "            computer_response = random.choices([\"evet\", \"hayır\"], [0.8, 0.2])[0]\n",
        "            print(f\"{computers_name} şöyle cevapladı: '{computer_response}'\")\n",
        "\n",
        "            if computer_response == \"hayır\":\n",
        "                print(f\"{computers_name} yeniden oynamak istemiyor.\")\n",
        "                break\n",
        "\n",
        "        print(\"Oyun bitti. Son skorlar:\")\n",
        "        display_scoreboard()"
      ]
    }
  ]
}